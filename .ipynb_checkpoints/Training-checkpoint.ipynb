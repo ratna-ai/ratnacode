{
 "cells": [
  {
   "cell_type": "code",
   "execution_count": 71,
   "metadata": {
    "colab": {},
    "colab_type": "code",
    "id": "Pdbqaot8RZcl"
   },
   "outputs": [],
   "source": [
    "import keras"
   ]
  },
  {
   "cell_type": "code",
   "execution_count": 72,
   "metadata": {
    "colab": {},
    "colab_type": "code",
    "id": "MiqVIOP3RZcw"
   },
   "outputs": [],
   "source": [
    "from keras.models import Sequential\n",
    "from keras.layers.normalization import BatchNormalization\n",
    "from keras.layers.convolutional import Conv2D\n",
    "from keras.layers.convolutional import MaxPooling2D\n",
    "from keras.layers.core import Activation\n",
    "from keras.layers.core import Flatten\n",
    "from keras.layers.core import Dropout\n",
    "from keras.layers.core import Dense\n",
    "from keras import backend as K"
   ]
  },
  {
   "cell_type": "code",
   "execution_count": 73,
   "metadata": {
    "colab": {},
    "colab_type": "code",
    "id": "UWxOvH05RZc6"
   },
   "outputs": [],
   "source": [
    "import tensorflow as tf "
   ]
  },
  {
   "cell_type": "code",
   "execution_count": 74,
   "metadata": {},
   "outputs": [],
   "source": [
    "import os"
   ]
  },
  {
   "cell_type": "code",
   "execution_count": 75,
   "metadata": {
    "colab": {
     "base_uri": "https://localhost:8080/",
     "height": 35
    },
    "colab_type": "code",
    "id": "UWzMWXanSENV",
    "outputId": "d0d9017e-c1da-4160-e747-c01290bbd467"
   },
   "outputs": [
    {
     "data": {
      "text/plain": [
       "['buruk', 'cukup', 'layak']"
      ]
     },
     "execution_count": 75,
     "metadata": {},
     "output_type": "execute_result"
    }
   ],
   "source": [
    "#ini juga tambahan, cuma mau mastiin aja filenya sudah terekstrak atau belum di colab\n",
    "#tidak perlu ditambahkan di notebooknya kalau pakai jupyter\n",
    "\n",
    "os.listdir('data/train')"
   ]
  },
  {
   "cell_type": "code",
   "execution_count": 76,
   "metadata": {
    "colab": {},
    "colab_type": "code",
    "id": "3jlsloVjRZdC"
   },
   "outputs": [],
   "source": [
    "class SmallVGGNet:\n",
    "    @staticmethod\n",
    "    def build(width, height, depth, classes):\n",
    "        # initialize the model along with the input shape to be \"channels last\" and the channels dimension/depth itself\n",
    "        model = Sequential()   # (i.e. TensorFlow ordering)\n",
    "        inputShape = (height, width, depth)\n",
    "        chanDim = -1\n",
    "\n",
    "        # if we are using \"channels first\", update the input shape and channels dimension\n",
    "        if K.image_data_format() == \"channels_first\":   # (i.e. Theano ordering)\n",
    "            inputShape = (depth, height, width)\n",
    "            chanDim = 1\n",
    "\n",
    "        # CONV => RELU => POOL layer set              # first CONV layer has 32 filters of size 3x3\n",
    "        model.add(Conv2D(32, (3, 3), padding=\"same\", input_shape=inputShape))\n",
    "        model.add(Activation(\"relu\"))                 # ReLU (Rectified Linear Unit) activation function\n",
    "        model.add(BatchNormalization(axis=chanDim))   # normalize activations of input volume before passing to next layer\n",
    "        model.add(Conv2D(32, (3, 3)))\n",
    "        model.add(Activation(\"relu\"))\n",
    "        model.add(MaxPooling2D(pool_size=(2, 2)))     # progressively reduce spatial size (width and height) of input \n",
    "        model.add(Dropout(0.25))                      # disconnecting random neurons between layers, reduce overfitting\n",
    "\n",
    "        # (CONV => RELU) * 2 => POOL layer set              # first CONV layer has 32 filters of size 3x3\n",
    "        model.add(Conv2D(64, (3, 3), padding=\"same\", input_shape=inputShape))\n",
    "        model.add(Activation(\"relu\"))                 # ReLU (Rectified Linear Unit) activation function\n",
    "        model.add(BatchNormalization(axis=chanDim))   # normalize activations of input volume before passing to next layer\n",
    "        model.add(Conv2D(64, (3, 3)))\n",
    "        model.add(Activation(\"relu\"))\n",
    "        model.add(MaxPooling2D(pool_size=(2, 2)))     # progressively reduce spatial size (width and height) of input \n",
    "        model.add(Dropout(0.25))\n",
    "\n",
    "        # first (and only) set of fully connected layer (FC) => RELU layers\n",
    "        model.add(Flatten())\n",
    "        model.add(Dense(512))\n",
    "        model.add(Activation(\"relu\"))\n",
    "        model.add(BatchNormalization())\n",
    "        model.add(Dropout(0.5))\n",
    "\n",
    "        # softmax classifier\n",
    "        model.add(Dense(classes))\n",
    "        model.add(Activation(tf.nn.softmax))\n",
    "\n",
    "        # return the constructed network architecture\n",
    "        return model"
   ]
  },
  {
   "cell_type": "code",
   "execution_count": 98,
   "metadata": {
    "colab": {},
    "colab_type": "code",
    "id": "QaJ4ezdZRZdK"
   },
   "outputs": [],
   "source": [
    "from sklearn.preprocessing import LabelBinarizer\n",
    "from sklearn.model_selection import train_test_split\n",
    "from sklearn.metrics import classification_report\n",
    "from keras.preprocessing.image import ImageDataGenerator\n",
    "from keras.optimizers import SGD\n",
    "from imutils import paths\n",
    "from keras.callbacks import ModelCheckpoint"
   ]
  },
  {
   "cell_type": "code",
   "execution_count": 99,
   "metadata": {
    "colab": {},
    "colab_type": "code",
    "id": "3APBeKR5RZdT"
   },
   "outputs": [],
   "source": [
    "import matplotlib as plt"
   ]
  },
  {
   "cell_type": "code",
   "execution_count": 100,
   "metadata": {
    "colab": {},
    "colab_type": "code",
    "id": "R6Tvhk2bRZda"
   },
   "outputs": [],
   "source": [
    "import matplotlib.pyplot as plt"
   ]
  },
  {
   "cell_type": "code",
   "execution_count": 101,
   "metadata": {
    "colab": {},
    "colab_type": "code",
    "id": "D12mZnyYRZdf"
   },
   "outputs": [],
   "source": [
    "import numpy as np"
   ]
  },
  {
   "cell_type": "code",
   "execution_count": 102,
   "metadata": {
    "colab": {},
    "colab_type": "code",
    "id": "KMP5lCDNRZdj"
   },
   "outputs": [],
   "source": [
    "import random"
   ]
  },
  {
   "cell_type": "code",
   "execution_count": 103,
   "metadata": {
    "colab": {},
    "colab_type": "code",
    "id": "rtSMw77aRZdp"
   },
   "outputs": [],
   "source": [
    "import pickle"
   ]
  },
  {
   "cell_type": "code",
   "execution_count": 104,
   "metadata": {
    "colab": {},
    "colab_type": "code",
    "id": "W6jU3RbZRZdt"
   },
   "outputs": [],
   "source": [
    "import cv2"
   ]
  },
  {
   "cell_type": "code",
   "execution_count": 105,
   "metadata": {
    "colab": {},
    "colab_type": "code",
    "id": "ZM7Uy2r_RZdz"
   },
   "outputs": [],
   "source": [
    "import os"
   ]
  },
  {
   "cell_type": "code",
   "execution_count": 106,
   "metadata": {
    "colab": {},
    "colab_type": "code",
    "id": "kBntEvsdRZd5"
   },
   "outputs": [],
   "source": [
    "import warnings\n",
    "warnings.filterwarnings(\"ignore\")"
   ]
  },
  {
   "cell_type": "code",
   "execution_count": 107,
   "metadata": {
    "colab": {
     "base_uri": "https://localhost:8080/",
     "height": 53
    },
    "colab_type": "code",
    "id": "Qkqz0dh0RZd_",
    "outputId": "35742d91-ebe0-49b0-ab5f-49705d16b47a"
   },
   "outputs": [
    {
     "name": "stdout",
     "output_type": "stream",
     "text": [
      "[INFO] loading images...\n",
      "done\n"
     ]
    }
   ],
   "source": [
    "print(\"[INFO] loading images...\")\n",
    "images = []\n",
    "labels = []\n",
    "\n",
    "# grab the image paths and randomly shuffle them\n",
    "imagePaths = sorted(list(paths.list_images('data/train'))) # ini pathnya path di colab yg saya pakai, jd disesuaikan lagi dengan path lokalnya saja\n",
    "random.seed(42)\n",
    "random.shuffle(imagePaths)\n",
    "\n",
    "# loop over the input images\n",
    "for imagePath in imagePaths:\n",
    "    # load the image, resize it to 64x64 pixels (the required input spatial dimensions of SmallVGGNet), \n",
    "    # and store the image in the data list\n",
    "    image = cv2.imread(imagePath)\n",
    "    image = cv2.resize(image, (32, 32))   # we are not flattening our data for neural network, because it is convolutional\n",
    "    images.append(image)\n",
    "\n",
    "    # extract the class label from the image path and update the labels list\n",
    "    label = imagePath.split(os.path.sep)[-2]\n",
    "    labels.append(label)\n",
    "\n",
    "# scale the raw pixel intensities to the range [0, 1]\n",
    "images = np.array(images, dtype=\"float\") / 255.0\n",
    "labels = np.array(labels)\n",
    "\n",
    "print('done')"
   ]
  },
  {
   "cell_type": "code",
   "execution_count": 108,
   "metadata": {
    "colab": {
     "base_uri": "https://localhost:8080/",
     "height": 271
    },
    "colab_type": "code",
    "id": "jJOG-iAQRZeH",
    "outputId": "a516aa5b-dfeb-4e31-a8aa-1c13bc862251"
   },
   "outputs": [
    {
     "data": {
      "text/plain": [
       "array([[0, 1, 0],\n",
       "       [0, 0, 1],\n",
       "       [1, 0, 0],\n",
       "       [1, 0, 0],\n",
       "       [0, 1, 0],\n",
       "       [0, 1, 0],\n",
       "       [0, 1, 0],\n",
       "       [0, 1, 0],\n",
       "       [1, 0, 0],\n",
       "       [0, 0, 1],\n",
       "       [0, 0, 1],\n",
       "       [0, 0, 1],\n",
       "       [1, 0, 0],\n",
       "       [0, 1, 0],\n",
       "       [0, 0, 1],\n",
       "       [0, 1, 0],\n",
       "       [0, 0, 1],\n",
       "       [0, 0, 1],\n",
       "       [0, 0, 1],\n",
       "       [0, 0, 1],\n",
       "       [0, 1, 0],\n",
       "       [0, 1, 0],\n",
       "       [0, 0, 1],\n",
       "       [0, 1, 0],\n",
       "       [1, 0, 0],\n",
       "       [1, 0, 0],\n",
       "       [1, 0, 0],\n",
       "       [0, 0, 1],\n",
       "       [1, 0, 0],\n",
       "       [1, 0, 0],\n",
       "       [0, 1, 0],\n",
       "       [0, 0, 1],\n",
       "       [0, 0, 1],\n",
       "       [0, 1, 0],\n",
       "       [0, 1, 0],\n",
       "       [0, 0, 1],\n",
       "       [1, 0, 0],\n",
       "       [0, 0, 1],\n",
       "       [1, 0, 0],\n",
       "       [0, 0, 1],\n",
       "       [0, 1, 0],\n",
       "       [1, 0, 0],\n",
       "       [0, 0, 1],\n",
       "       [1, 0, 0],\n",
       "       [0, 0, 1],\n",
       "       [0, 1, 0],\n",
       "       [1, 0, 0],\n",
       "       [1, 0, 0],\n",
       "       [0, 1, 0],\n",
       "       [0, 1, 0],\n",
       "       [0, 1, 0],\n",
       "       [0, 0, 1],\n",
       "       [1, 0, 0],\n",
       "       [0, 0, 1],\n",
       "       [0, 0, 1],\n",
       "       [0, 1, 0],\n",
       "       [0, 0, 1],\n",
       "       [0, 1, 0],\n",
       "       [1, 0, 0],\n",
       "       [0, 0, 1],\n",
       "       [0, 1, 0],\n",
       "       [1, 0, 0],\n",
       "       [0, 1, 0],\n",
       "       [1, 0, 0],\n",
       "       [0, 0, 1],\n",
       "       [0, 1, 0],\n",
       "       [0, 0, 1],\n",
       "       [0, 1, 0],\n",
       "       [0, 0, 1],\n",
       "       [0, 1, 0],\n",
       "       [1, 0, 0],\n",
       "       [0, 0, 1],\n",
       "       [0, 0, 1],\n",
       "       [0, 1, 0],\n",
       "       [0, 0, 1],\n",
       "       [1, 0, 0],\n",
       "       [0, 1, 0],\n",
       "       [1, 0, 0],\n",
       "       [1, 0, 0],\n",
       "       [0, 0, 1],\n",
       "       [1, 0, 0],\n",
       "       [1, 0, 0],\n",
       "       [1, 0, 0],\n",
       "       [0, 0, 1],\n",
       "       [1, 0, 0],\n",
       "       [0, 1, 0],\n",
       "       [1, 0, 0],\n",
       "       [0, 1, 0],\n",
       "       [1, 0, 0],\n",
       "       [0, 1, 0],\n",
       "       [1, 0, 0],\n",
       "       [1, 0, 0],\n",
       "       [0, 1, 0],\n",
       "       [1, 0, 0],\n",
       "       [0, 1, 0],\n",
       "       [0, 1, 0],\n",
       "       [0, 1, 0],\n",
       "       [1, 0, 0],\n",
       "       [0, 1, 0],\n",
       "       [1, 0, 0],\n",
       "       [1, 0, 0],\n",
       "       [0, 1, 0],\n",
       "       [1, 0, 0],\n",
       "       [0, 1, 0],\n",
       "       [1, 0, 0],\n",
       "       [1, 0, 0],\n",
       "       [0, 1, 0],\n",
       "       [0, 0, 1],\n",
       "       [0, 1, 0],\n",
       "       [0, 1, 0],\n",
       "       [0, 1, 0],\n",
       "       [0, 0, 1],\n",
       "       [0, 1, 0],\n",
       "       [0, 1, 0],\n",
       "       [0, 1, 0],\n",
       "       [0, 0, 1],\n",
       "       [1, 0, 0],\n",
       "       [0, 1, 0],\n",
       "       [0, 0, 1],\n",
       "       [1, 0, 0],\n",
       "       [0, 1, 0],\n",
       "       [0, 0, 1],\n",
       "       [1, 0, 0],\n",
       "       [1, 0, 0],\n",
       "       [0, 0, 1],\n",
       "       [0, 0, 1],\n",
       "       [0, 0, 1],\n",
       "       [0, 1, 0],\n",
       "       [0, 1, 0],\n",
       "       [1, 0, 0],\n",
       "       [1, 0, 0],\n",
       "       [1, 0, 0],\n",
       "       [0, 1, 0],\n",
       "       [0, 1, 0],\n",
       "       [1, 0, 0],\n",
       "       [0, 0, 1],\n",
       "       [1, 0, 0],\n",
       "       [1, 0, 0],\n",
       "       [0, 1, 0],\n",
       "       [0, 0, 1],\n",
       "       [0, 0, 1],\n",
       "       [0, 1, 0],\n",
       "       [0, 0, 1],\n",
       "       [1, 0, 0],\n",
       "       [0, 0, 1],\n",
       "       [0, 0, 1],\n",
       "       [0, 1, 0],\n",
       "       [0, 0, 1],\n",
       "       [0, 0, 1],\n",
       "       [0, 1, 0],\n",
       "       [0, 0, 1],\n",
       "       [1, 0, 0],\n",
       "       [0, 1, 0],\n",
       "       [0, 0, 1],\n",
       "       [1, 0, 0],\n",
       "       [0, 1, 0],\n",
       "       [1, 0, 0],\n",
       "       [0, 1, 0],\n",
       "       [0, 0, 1],\n",
       "       [0, 0, 1],\n",
       "       [0, 1, 0],\n",
       "       [0, 1, 0],\n",
       "       [0, 1, 0],\n",
       "       [0, 0, 1],\n",
       "       [1, 0, 0],\n",
       "       [0, 0, 1],\n",
       "       [0, 1, 0],\n",
       "       [0, 1, 0]], dtype=int32)"
      ]
     },
     "execution_count": 108,
     "metadata": {},
     "output_type": "execute_result"
    }
   ],
   "source": [
    "# before transformation\n",
    "trainY"
   ]
  },
  {
   "cell_type": "code",
   "execution_count": 112,
   "metadata": {
    "colab": {
     "base_uri": "https://localhost:8080/",
     "height": 562
    },
    "colab_type": "code",
    "id": "yXBciHhORZeS",
    "outputId": "8f8fe8b0-d978-4c36-fd3b-6a09e981d822"
   },
   "outputs": [
    {
     "name": "stdout",
     "output_type": "stream",
     "text": [
      "Found 169 images belonging to 3 classes.\n",
      "Found 41 images belonging to 3 classes.\n",
      "[INFO] training network...\n",
      "Epoch 1/75\n",
      "25/25 [==============================] - 49s 2s/step - loss: 1.2591 - acc: 0.5680 - val_loss: 1.2006 - val_acc: 0.5122\n",
      "Epoch 2/75\n",
      "25/25 [==============================] - 42s 2s/step - loss: 0.9960 - acc: 0.6378 - val_loss: 1.1708 - val_acc: 0.6098\n",
      "Epoch 3/75\n",
      "25/25 [==============================] - 46s 2s/step - loss: 0.9833 - acc: 0.6030 - val_loss: 1.0700 - val_acc: 0.5366\n",
      "Epoch 4/75\n",
      "25/25 [==============================] - 42s 2s/step - loss: 0.9659 - acc: 0.6045 - val_loss: 0.9721 - val_acc: 0.6585\n",
      "Epoch 5/75\n",
      "25/25 [==============================] - 43s 2s/step - loss: 0.9385 - acc: 0.6245 - val_loss: 0.7983 - val_acc: 0.6829\n",
      "Epoch 6/75\n",
      "25/25 [==============================] - 44s 2s/step - loss: 0.8579 - acc: 0.6316 - val_loss: 1.0087 - val_acc: 0.6585\n",
      "Epoch 7/75\n",
      "25/25 [==============================] - 46s 2s/step - loss: 0.7645 - acc: 0.6829 - val_loss: 0.9777 - val_acc: 0.6829\n",
      "Epoch 8/75\n",
      "25/25 [==============================] - 49s 2s/step - loss: 0.8326 - acc: 0.6272 - val_loss: 0.6858 - val_acc: 0.7073\n",
      "Epoch 9/75\n",
      "25/25 [==============================] - 44s 2s/step - loss: 0.8678 - acc: 0.6262 - val_loss: 0.9244 - val_acc: 0.6098\n",
      "Epoch 10/75\n",
      "25/25 [==============================] - 46s 2s/step - loss: 0.7612 - acc: 0.6477 - val_loss: 0.6967 - val_acc: 0.7073\n",
      "Epoch 11/75\n",
      "25/25 [==============================] - 43s 2s/step - loss: 0.6791 - acc: 0.7006 - val_loss: 0.8983 - val_acc: 0.7317\n",
      "Epoch 12/75\n",
      "25/25 [==============================] - 49s 2s/step - loss: 0.7212 - acc: 0.6851 - val_loss: 1.0522 - val_acc: 0.5366\n",
      "Epoch 13/75\n",
      "25/25 [==============================] - 53s 2s/step - loss: 0.6745 - acc: 0.6841 - val_loss: 1.1242 - val_acc: 0.6341\n",
      "Epoch 14/75\n",
      "25/25 [==============================] - 50s 2s/step - loss: 0.6597 - acc: 0.6873 - val_loss: 1.0069 - val_acc: 0.6585\n",
      "Epoch 15/75\n",
      "25/25 [==============================] - 46s 2s/step - loss: 0.7561 - acc: 0.6720 - val_loss: 0.8572 - val_acc: 0.6341\n",
      "Epoch 16/75\n",
      "25/25 [==============================] - 53s 2s/step - loss: 0.6467 - acc: 0.6827 - val_loss: 0.7804 - val_acc: 0.6585\n",
      "Epoch 17/75\n",
      "25/25 [==============================] - 49s 2s/step - loss: 0.7111 - acc: 0.7051 - val_loss: 0.8692 - val_acc: 0.6585\n",
      "Epoch 18/75\n",
      "25/25 [==============================] - 52s 2s/step - loss: 0.6582 - acc: 0.7275 - val_loss: 0.8324 - val_acc: 0.8293\n",
      "Epoch 19/75\n",
      "25/25 [==============================] - 53s 2s/step - loss: 0.6441 - acc: 0.6945 - val_loss: 0.9615 - val_acc: 0.5854\n",
      "Epoch 20/75\n",
      "25/25 [==============================] - 70s 3s/step - loss: 0.6740 - acc: 0.7104 - val_loss: 1.0869 - val_acc: 0.5854\n",
      "Epoch 21/75\n",
      "25/25 [==============================] - 50s 2s/step - loss: 0.5992 - acc: 0.7358 - val_loss: 0.8789 - val_acc: 0.5122\n",
      "Epoch 22/75\n",
      "25/25 [==============================] - 47s 2s/step - loss: 0.6667 - acc: 0.6877 - val_loss: 1.0727 - val_acc: 0.5854\n",
      "Epoch 23/75\n",
      "25/25 [==============================] - 51s 2s/step - loss: 0.6651 - acc: 0.6848 - val_loss: 0.9939 - val_acc: 0.5610\n",
      "Epoch 24/75\n",
      "25/25 [==============================] - 52s 2s/step - loss: 0.6144 - acc: 0.7264 - val_loss: 0.9304 - val_acc: 0.6585\n",
      "Epoch 25/75\n",
      "25/25 [==============================] - 46s 2s/step - loss: 0.6090 - acc: 0.7224 - val_loss: 1.1566 - val_acc: 0.5122\n",
      "Epoch 26/75\n",
      "25/25 [==============================] - 44s 2s/step - loss: 0.6650 - acc: 0.7095 - val_loss: 0.6917 - val_acc: 0.8293\n",
      "Epoch 27/75\n",
      "25/25 [==============================] - 44s 2s/step - loss: 0.6141 - acc: 0.7191 - val_loss: 0.8702 - val_acc: 0.6098\n",
      "Epoch 28/75\n",
      "25/25 [==============================] - 45s 2s/step - loss: 0.5835 - acc: 0.7460 - val_loss: 0.7269 - val_acc: 0.6829\n",
      "Epoch 29/75\n",
      "25/25 [==============================] - 52s 2s/step - loss: 0.6013 - acc: 0.7461 - val_loss: 0.8614 - val_acc: 0.6341\n",
      "Epoch 30/75\n",
      "25/25 [==============================] - 48s 2s/step - loss: 0.6366 - acc: 0.6951 - val_loss: 0.8516 - val_acc: 0.5854\n",
      "Epoch 31/75\n",
      "25/25 [==============================] - 45s 2s/step - loss: 0.5792 - acc: 0.7367 - val_loss: 0.8139 - val_acc: 0.7073\n",
      "Epoch 32/75\n",
      "25/25 [==============================] - 55s 2s/step - loss: 0.5888 - acc: 0.7365 - val_loss: 0.7074 - val_acc: 0.7805\n",
      "Epoch 35/75\n",
      "25/25 [==============================] - 42s 2s/step - loss: 0.5961 - acc: 0.7430 - val_loss: 0.8763 - val_acc: 0.7805\n",
      "Epoch 36/75\n",
      "25/25 [==============================] - 53s 2s/step - loss: 0.5464 - acc: 0.7376 - val_loss: 0.7598 - val_acc: 0.7561\n",
      "Epoch 37/75\n",
      "25/25 [==============================] - 36s 1s/step - loss: 0.5330 - acc: 0.7714 - val_loss: 0.5561 - val_acc: 0.8293\n",
      "Epoch 38/75\n",
      "25/25 [==============================] - 33s 1s/step - loss: 0.6218 - acc: 0.7137 - val_loss: 0.7740 - val_acc: 0.8293\n",
      "Epoch 39/75\n",
      "25/25 [==============================] - 33s 1s/step - loss: 0.5866 - acc: 0.7394 - val_loss: 0.6623 - val_acc: 0.8049\n",
      "Epoch 40/75\n",
      "25/25 [==============================] - 33s 1s/step - loss: 0.6246 - acc: 0.7166 - val_loss: 0.8613 - val_acc: 0.7561\n",
      "Epoch 41/75\n",
      "25/25 [==============================] - 40s 2s/step - loss: 0.5367 - acc: 0.7416 - val_loss: 0.8008 - val_acc: 0.6098\n",
      "Epoch 42/75\n",
      "25/25 [==============================] - 33s 1s/step - loss: 0.5494 - acc: 0.7376 - val_loss: 0.8834 - val_acc: 0.7073\n",
      "Epoch 43/75\n",
      "25/25 [==============================] - 33s 1s/step - loss: 0.5815 - acc: 0.7319 - val_loss: 0.7624 - val_acc: 0.7317\n",
      "Epoch 44/75\n",
      "25/25 [==============================] - 40s 2s/step - loss: 0.5530 - acc: 0.7472 - val_loss: 0.6889 - val_acc: 0.7317\n",
      "Epoch 45/75\n",
      "25/25 [==============================] - 39s 2s/step - loss: 0.6145 - acc: 0.7327 - val_loss: 0.5960 - val_acc: 0.7805\n",
      "Epoch 46/75\n",
      "25/25 [==============================] - 30s 1s/step - loss: 0.5666 - acc: 0.7514 - val_loss: 0.8004 - val_acc: 0.6829\n",
      "Epoch 47/75\n",
      "25/25 [==============================] - 39s 2s/step - loss: 0.5117 - acc: 0.7729 - val_loss: 0.6311 - val_acc: 0.7317\n",
      "Epoch 48/75\n",
      "25/25 [==============================] - 33s 1s/step - loss: 0.5256 - acc: 0.7444 - val_loss: 0.8367 - val_acc: 0.6829\n",
      "Epoch 49/75\n",
      "25/25 [==============================] - 29s 1s/step - loss: 0.5256 - acc: 0.7656 - val_loss: 1.0506 - val_acc: 0.5122\n",
      "Epoch 50/75\n",
      "25/25 [==============================] - 28s 1s/step - loss: 0.5401 - acc: 0.7726 - val_loss: 0.9290 - val_acc: 0.5610\n",
      "Epoch 51/75\n",
      "25/25 [==============================] - 28s 1s/step - loss: 0.5500 - acc: 0.7461 - val_loss: 0.7689 - val_acc: 0.6585\n",
      "Epoch 52/75\n",
      "25/25 [==============================] - 38s 2s/step - loss: 0.5164 - acc: 0.7926 - val_loss: 0.8927 - val_acc: 0.5610\n",
      "Epoch 53/75\n",
      "25/25 [==============================] - 35s 1s/step - loss: 0.5658 - acc: 0.7400 - val_loss: 1.0474 - val_acc: 0.5366\n",
      "Epoch 54/75\n",
      "25/25 [==============================] - 29s 1s/step - loss: 0.5123 - acc: 0.7669 - val_loss: 0.6457 - val_acc: 0.8293\n",
      "Epoch 55/75\n",
      "25/25 [==============================] - 27s 1s/step - loss: 0.5357 - acc: 0.7365 - val_loss: 0.5833 - val_acc: 0.7073\n",
      "Epoch 56/75\n",
      "25/25 [==============================] - 36s 1s/step - loss: 0.5487 - acc: 0.7795 - val_loss: 0.5331 - val_acc: 0.8293\n",
      "Epoch 57/75\n",
      "25/25 [==============================] - 28s 1s/step - loss: 0.5627 - acc: 0.7616 - val_loss: 0.6623 - val_acc: 0.8049\n",
      "Epoch 58/75\n",
      "25/25 [==============================] - 29s 1s/step - loss: 0.5294 - acc: 0.7751 - val_loss: 0.6383 - val_acc: 0.8293\n",
      "Epoch 59/75\n",
      "25/25 [==============================] - 28s 1s/step - loss: 0.5224 - acc: 0.7282 - val_loss: 0.6549 - val_acc: 0.8293\n",
      "Epoch 60/75\n",
      "25/25 [==============================] - 30s 1s/step - loss: 0.5764 - acc: 0.7416 - val_loss: 0.7711 - val_acc: 0.7317\n",
      "Epoch 61/75\n",
      "25/25 [==============================] - 30s 1s/step - loss: 0.5253 - acc: 0.7892 - val_loss: 0.6962 - val_acc: 0.8293\n",
      "Epoch 62/75\n",
      "25/25 [==============================] - 31s 1s/step - loss: 0.5235 - acc: 0.7933 - val_loss: 0.6004 - val_acc: 0.7317\n",
      "Epoch 63/75\n",
      "25/25 [==============================] - 39s 2s/step - loss: 0.5586 - acc: 0.7257 - val_loss: 0.6395 - val_acc: 0.8780\n",
      "Epoch 64/75\n",
      "25/25 [==============================] - 30s 1s/step - loss: 0.5943 - acc: 0.7250 - val_loss: 0.7540 - val_acc: 0.7073\n"
     ]
    },
    {
     "name": "stdout",
     "output_type": "stream",
     "text": [
      "Epoch 65/75\n",
      "25/25 [==============================] - 27s 1s/step - loss: 0.5247 - acc: 0.7700 - val_loss: 0.6826 - val_acc: 0.7805\n",
      "Epoch 66/75\n",
      "25/25 [==============================] - 27s 1s/step - loss: 0.5128 - acc: 0.7568 - val_loss: 0.7894 - val_acc: 0.7073\n",
      "Epoch 67/75\n",
      "25/25 [==============================] - 27s 1s/step - loss: 0.4932 - acc: 0.7825 - val_loss: 0.6686 - val_acc: 0.7317\n",
      "Epoch 68/75\n",
      "25/25 [==============================] - 28s 1s/step - loss: 0.4958 - acc: 0.7688 - val_loss: 0.7486 - val_acc: 0.7805\n",
      "Epoch 69/75\n",
      "25/25 [==============================] - 38s 2s/step - loss: 0.5238 - acc: 0.7746 - val_loss: 0.5959 - val_acc: 0.8537\n",
      "Epoch 70/75\n",
      "25/25 [==============================] - 31s 1s/step - loss: 0.5018 - acc: 0.7863 - val_loss: 0.6060 - val_acc: 0.7561\n",
      "Epoch 71/75\n",
      "25/25 [==============================] - 40s 2s/step - loss: 0.4963 - acc: 0.7975 - val_loss: 0.8163 - val_acc: 0.7805\n",
      "Epoch 72/75\n",
      "25/25 [==============================] - 51s 2s/step - loss: 0.4981 - acc: 0.7937 - val_loss: 0.5837 - val_acc: 0.9024\n",
      "Epoch 73/75\n",
      "25/25 [==============================] - 35s 1s/step - loss: 0.5157 - acc: 0.7728 - val_loss: 0.7674 - val_acc: 0.8049\n",
      "Epoch 74/75\n",
      "25/25 [==============================] - 30s 1s/step - loss: 0.4945 - acc: 0.7785 - val_loss: 0.9596 - val_acc: 0.8049\n",
      "Epoch 75/75\n",
      "25/25 [==============================] - 35s 1s/step - loss: 0.5089 - acc: 0.7621 - val_loss: 0.6554 - val_acc: 0.8049\n"
     ]
    }
   ],
   "source": [
    "aug = ImageDataGenerator(rotation_range=30, width_shift_range=0.1,\n",
    "                        height_shift_range=0.1, shear_range=0.2, zoom_range=0.2,\n",
    "                        horizontal_flip=True, fill_mode=\"nearest\", validation_split=0.2)\n",
    "\n",
    "model = SmallVGGNet.build(width=32, height=32, depth=1, classes=len(lb.classes_))\n",
    "\n",
    "INIT_LR = 0.01\n",
    "EPOCHS = 75\n",
    "\n",
    "train_gen = aug.flow_from_directory('data/train',\n",
    "                                    target_size = (32,32),\n",
    "                                    color_mode = 'grayscale',\n",
    "                                    batch_size = 32,\n",
    "                                    class_mode = 'categorical',\n",
    "                                    shuffle = True,\n",
    "                                    subset = 'training')\n",
    "\n",
    "val_gen = aug.flow_from_directory('data/train',\n",
    "                                  target_size = (32,32),\n",
    "                                  color_mode = 'grayscale',\n",
    "                                  batch_size = 32,\n",
    "                                  class_mode = 'categorical',\n",
    "                                  shuffle = False,\n",
    "                                  subset = 'validation')\n",
    "\n",
    "print(\"[INFO] training network...\")\n",
    "opt = SGD(lr=INIT_LR, decay=INIT_LR / EPOCHS)\n",
    "model.compile(loss=\"categorical_crossentropy\", optimizer=opt, metrics=[\"accuracy\"])\n",
    "\n",
    "checkpoint = ModelCheckpoint(filepath = 'best.h5',\n",
    "                            monitor = 'val_accuracy',\n",
    "                            verbose = 1,\n",
    "                            save_best_only = True,\n",
    "                            mode = 'max')\n",
    "\n",
    "H = model.fit_generator(train_gen, validation_data=val_gen, steps_per_epoch=25, epochs=EPOCHS,\n",
    "                       callbacks=[checkpoint])"
   ]
  },
  {
   "cell_type": "code",
   "execution_count": 137,
   "metadata": {},
   "outputs": [
    {
     "name": "stdout",
     "output_type": "stream",
     "text": [
      "[INFO] evaluating network...\n"
     ]
    },
    {
     "ename": "error",
     "evalue": "OpenCV(4.2.0) c:\\projects\\opencv-python\\opencv\\modules\\imgproc\\src\\color.simd_helpers.hpp:92: error: (-2:Unspecified error) in function '__cdecl cv::impl::`anonymous-namespace'::CvtHelper<struct cv::impl::`anonymous namespace'::Set<3,4,-1>,struct cv::impl::A0xe227985e::Set<1,-1,-1>,struct cv::impl::A0xe227985e::Set<0,2,5>,2>::CvtHelper(const class cv::_InputArray &,const class cv::_OutputArray &,int)'\n> Invalid number of channels in input image:\n>     'VScn::contains(scn)'\n> where\n>     'scn' is 1\n",
     "output_type": "error",
     "traceback": [
      "\u001b[1;31m---------------------------------------------------------------------------\u001b[0m",
      "\u001b[1;31merror\u001b[0m                                     Traceback (most recent call last)",
      "\u001b[1;32m<ipython-input-137-c2edde91b8a2>\u001b[0m in \u001b[0;36m<module>\u001b[1;34m\u001b[0m\n\u001b[0;32m      1\u001b[0m \u001b[1;31m#evaluate the network\u001b[0m\u001b[1;33m\u001b[0m\u001b[1;33m\u001b[0m\u001b[1;33m\u001b[0m\u001b[0m\n\u001b[0;32m      2\u001b[0m \u001b[0mprint\u001b[0m\u001b[1;33m(\u001b[0m\u001b[1;34m\"[INFO] evaluating network...\"\u001b[0m\u001b[1;33m)\u001b[0m\u001b[1;33m\u001b[0m\u001b[1;33m\u001b[0m\u001b[0m\n\u001b[1;32m----> 3\u001b[1;33m \u001b[0mimgae\u001b[0m \u001b[1;33m=\u001b[0m \u001b[0mcv2\u001b[0m\u001b[1;33m.\u001b[0m\u001b[0mcvtColor\u001b[0m\u001b[1;33m(\u001b[0m\u001b[0mtestX\u001b[0m\u001b[1;33m,\u001b[0m \u001b[0mcv2\u001b[0m\u001b[1;33m.\u001b[0m\u001b[0mCOLOR_BGR2GRAY\u001b[0m\u001b[1;33m)\u001b[0m\u001b[1;33m\u001b[0m\u001b[1;33m\u001b[0m\u001b[0m\n\u001b[0m\u001b[0;32m      4\u001b[0m \u001b[0mpredictions\u001b[0m \u001b[1;33m=\u001b[0m \u001b[0mmodel\u001b[0m\u001b[1;33m.\u001b[0m\u001b[0mpredict\u001b[0m\u001b[1;33m(\u001b[0m\u001b[0mimage\u001b[0m\u001b[1;33m,\u001b[0m \u001b[0mbatch_size\u001b[0m\u001b[1;33m=\u001b[0m\u001b[1;36m32\u001b[0m\u001b[1;33m)\u001b[0m\u001b[1;33m\u001b[0m\u001b[1;33m\u001b[0m\u001b[0m\n\u001b[0;32m      5\u001b[0m \u001b[0mprint\u001b[0m\u001b[1;33m(\u001b[0m\u001b[0mclassification_report\u001b[0m\u001b[1;33m(\u001b[0m\u001b[0mtestY\u001b[0m\u001b[1;33m.\u001b[0m\u001b[0margmax\u001b[0m\u001b[1;33m(\u001b[0m\u001b[0maxis\u001b[0m\u001b[1;33m=\u001b[0m\u001b[1;36m1\u001b[0m\u001b[1;33m)\u001b[0m\u001b[1;33m,\u001b[0m \u001b[0mpredictions\u001b[0m\u001b[1;33m.\u001b[0m\u001b[0margmax\u001b[0m\u001b[1;33m(\u001b[0m\u001b[0maxis\u001b[0m\u001b[1;33m=\u001b[0m\u001b[1;36m1\u001b[0m\u001b[1;33m)\u001b[0m\u001b[1;33m,\u001b[0m \u001b[0mtarget_names\u001b[0m\u001b[1;33m=\u001b[0m\u001b[0mlb\u001b[0m\u001b[1;33m.\u001b[0m\u001b[0mclasses_\u001b[0m\u001b[1;33m)\u001b[0m\u001b[1;33m)\u001b[0m\u001b[1;33m\u001b[0m\u001b[1;33m\u001b[0m\u001b[0m\n",
      "\u001b[1;31merror\u001b[0m: OpenCV(4.2.0) c:\\projects\\opencv-python\\opencv\\modules\\imgproc\\src\\color.simd_helpers.hpp:92: error: (-2:Unspecified error) in function '__cdecl cv::impl::`anonymous-namespace'::CvtHelper<struct cv::impl::`anonymous namespace'::Set<3,4,-1>,struct cv::impl::A0xe227985e::Set<1,-1,-1>,struct cv::impl::A0xe227985e::Set<0,2,5>,2>::CvtHelper(const class cv::_InputArray &,const class cv::_OutputArray &,int)'\n> Invalid number of channels in input image:\n>     'VScn::contains(scn)'\n> where\n>     'scn' is 1\n"
     ]
    }
   ],
   "source": [
    "#evaluate the network\n",
    "print(\"[INFO] evaluating network...\")\n",
    "imgae = cv2.cvtColor(testX, cv2.COLOR_BGR2GRAY)\n",
    "predictions = model.predict(image, batch_size=32)\n",
    "print(classification_report(testY.argmax(axis=1), predictions.argmax(axis=1), target_names=lb.classes_))"
   ]
  },
  {
   "cell_type": "code",
   "execution_count": 58,
   "metadata": {},
   "outputs": [],
   "source": [
    "from sklearn.metrics import confusion_matrix\n",
    "from matplotlib import cm"
   ]
  },
  {
   "cell_type": "code",
   "execution_count": 59,
   "metadata": {},
   "outputs": [],
   "source": [
    "import numpy as np"
   ]
  },
  {
   "cell_type": "code",
   "execution_count": 60,
   "metadata": {},
   "outputs": [
    {
     "name": "stdout",
     "output_type": "stream",
     "text": [
      "[0 2 0 2 0 0 1 2 1 0 0 2 0 0 1 1 2 2 2 2 2 2 0 2 0 2 2 0 0 0 0 2 1 2 1 0 2\n",
      " 1 2 0 2 1]\n",
      "[0 1 0 1 0 0 1 2 1 0 1 2 0 0 1 1 0 2 2 2 1 2 0 1 0 1 2 0 0 0 0 2 1 1 1 0 1\n",
      " 1 1 0 0 0]\n",
      "\n",
      "[[15  1  0]\n",
      " [ 1  7  0]\n",
      " [ 2  8  8]]\n"
     ]
    }
   ],
   "source": [
    "# tambahkan .argmax(axis=1) di testY dan predictions karena keduanya belum one hot encoded\n",
    "# one hot encoded akan menampilkan dia kelas ke-berapa, hanya satu elemen, tidak seperti list banyak elemen\n",
    "\n",
    "test_labels = testY.argmax(axis=1)\n",
    "pred_labels = predictions.argmax(axis=1)\n",
    "\n",
    "cm = confusion_matrix(test_labels, pred_labels)\n",
    "\n",
    "print(test_labels)\n",
    "print(pred_labels)\n",
    "print()\n",
    "print(cm)"
   ]
  },
  {
   "cell_type": "code",
   "execution_count": 61,
   "metadata": {},
   "outputs": [],
   "source": [
    "def plot_confusion_matrix(cm=cm, classes=['cukup', 'layak', 'buruk'],\n",
    "                         normalize=False,\n",
    "                         title='Confusion matrix',\n",
    "                         cmap=plt.cm.Blues):\n",
    "    if normalize:\n",
    "        cm = cm.astype('float') / cm.sum(axis=1)[:, np. newaxis]\n",
    "        print('Normalized confusion matrix')\n",
    "    else:\n",
    "        print('Confusion matrix, without normalization')\n",
    "        \n",
    "    print(cm)\n",
    "    \n",
    "    plt.imshow(cm, interpolation='nearest', cmap=cmap)\n",
    "    plt.title(title)\n",
    "    plt.colorbar()\n",
    "    tick_marks = np.arange(len(classes))\n",
    "    plt.xticks(tick_marks, classes, rotation=0)\n",
    "    plt.yticks(tick_marks, classes)\n",
    "    \n",
    "    fmt = '.2f' if normalize else 'd'\n",
    "    thresh = cm.max() / 2.\n",
    "    for i, j in itertools.product(range(cm.shape[0]), range(cm.shape[1])):\n",
    "        plt.text(j, i, format(cm[i, j], 'd'),\n",
    "                 horizontalalignment=\"center\",\n",
    "                 color=\"white\" if cm[i, j] > thresh else \"black\")\n",
    "    \n",
    "    plt.tight_layout()\n",
    "    plt.ylabel('Label Sebenarnya', weight='bold')\n",
    "    plt.xlabel('Label Hasil Prediksi', weight='bold')"
   ]
  },
  {
   "cell_type": "code",
   "execution_count": 62,
   "metadata": {},
   "outputs": [],
   "source": [
    "import itertools"
   ]
  },
  {
   "cell_type": "code",
   "execution_count": 63,
   "metadata": {},
   "outputs": [
    {
     "name": "stdout",
     "output_type": "stream",
     "text": [
      "Confusion matrix, without normalization\n",
      "[[15  1  0]\n",
      " [ 1  7  0]\n",
      " [ 2  8  8]]\n"
     ]
    },
    {
     "data": {
      "image/png": "[encoded data removed]",
      "text/plain": [
       "<Figure size 432x288 with 2 Axes>"
      ]
     },
     "metadata": {},
     "output_type": "display_data"
    }
   ],
   "source": [
    "kelas = ['cukup', 'layak', 'buruk']\n",
    "plot_confusion_matrix(cm=cm, classes=kelas)"
   ]
  },
  {
   "cell_type": "code",
   "execution_count": 64,
   "metadata": {},
   "outputs": [
    {
     "data": {
      "image/png": "[encoded data removed]",
      "text/plain": [
       "<Figure size 576x432 with 1 Axes>"
      ]
     },
     "metadata": {},
     "output_type": "display_data"
    }
   ],
   "source": [
    "# plot the training/validation loss\n",
    "N = np.arange(0, EPOCHS)\n",
    "plt.style.use(\"ggplot\")\n",
    "plt.figure(figsize = [8,6])\n",
    "plt.plot(N, H.history[\"loss\"], label=\"train_loss\")\n",
    "plt.plot(N, H.history[\"val_loss\"], label=\"val_loss\")\n",
    "plt.title(\"Training and Validation Loss (Training)\")\n",
    "plt.xlabel(\"Epoch #\", weight='bold')\n",
    "plt.ylabel(\"Loss\", weight='bold')\n",
    "plt.legend()\n",
    "plt.show()"
   ]
  },
  {
   "cell_type": "code",
   "execution_count": 65,
   "metadata": {},
   "outputs": [
    {
     "data": {
      "text/plain": [
       "<matplotlib.legend.Legend at 0x18b31654f98>"
      ]
     },
     "execution_count": 65,
     "metadata": {},
     "output_type": "execute_result"
    },
    {
     "data": {
      "image/png": "[encoded data removed]",
      "text/plain": [
       "<Figure size 576x432 with 1 Axes>"
      ]
     },
     "metadata": {},
     "output_type": "display_data"
    }
   ],
   "source": [
    "# plot the training/validation accuracy\n",
    "N = np.arange(0, EPOCHS)\n",
    "plt.style.use(\"ggplot\")\n",
    "plt.figure(figsize = [8,6])\n",
    "plt.plot(N, H.history[\"acc\"], label=\"train_acc\")\n",
    "plt.plot(N, H.history[\"val_acc\"], label=\"val_acc\")\n",
    "plt.title(\"Training and Validation Accuracy (Training)\")\n",
    "plt.xlabel(\"Epoch #\", weight='bold')\n",
    "plt.ylabel(\"Accuracy\", weight='bold')\n",
    "plt.legend()"
   ]
  },
  {
   "cell_type": "code",
   "execution_count": 66,
   "metadata": {},
   "outputs": [
    {
     "name": "stdout",
     "output_type": "stream",
     "text": [
      "_________________________________________________________________\n",
      "Layer (type)                 Output Shape              Param #   \n",
      "=================================================================\n",
      "conv2d_21 (Conv2D)           (None, 32, 32, 32)        896       \n",
      "_________________________________________________________________\n",
      "activation_31 (Activation)   (None, 32, 32, 32)        0         \n",
      "_________________________________________________________________\n",
      "batch_normalization_16 (Batc (None, 32, 32, 32)        128       \n",
      "_________________________________________________________________\n",
      "conv2d_22 (Conv2D)           (None, 30, 30, 32)        9248      \n",
      "_________________________________________________________________\n",
      "activation_32 (Activation)   (None, 30, 30, 32)        0         \n",
      "_________________________________________________________________\n",
      "max_pooling2d_11 (MaxPooling (None, 15, 15, 32)        0         \n",
      "_________________________________________________________________\n",
      "dropout_16 (Dropout)         (None, 15, 15, 32)        0         \n",
      "_________________________________________________________________\n",
      "conv2d_23 (Conv2D)           (None, 15, 15, 64)        18496     \n",
      "_________________________________________________________________\n",
      "activation_33 (Activation)   (None, 15, 15, 64)        0         \n",
      "_________________________________________________________________\n",
      "batch_normalization_17 (Batc (None, 15, 15, 64)        256       \n",
      "_________________________________________________________________\n",
      "conv2d_24 (Conv2D)           (None, 13, 13, 64)        36928     \n",
      "_________________________________________________________________\n",
      "activation_34 (Activation)   (None, 13, 13, 64)        0         \n",
      "_________________________________________________________________\n",
      "max_pooling2d_12 (MaxPooling (None, 6, 6, 64)          0         \n",
      "_________________________________________________________________\n",
      "dropout_17 (Dropout)         (None, 6, 6, 64)          0         \n",
      "_________________________________________________________________\n",
      "flatten_6 (Flatten)          (None, 2304)              0         \n",
      "_________________________________________________________________\n",
      "dense_11 (Dense)             (None, 512)               1180160   \n",
      "_________________________________________________________________\n",
      "activation_35 (Activation)   (None, 512)               0         \n",
      "_________________________________________________________________\n",
      "batch_normalization_18 (Batc (None, 512)               2048      \n",
      "_________________________________________________________________\n",
      "dropout_18 (Dropout)         (None, 512)               0         \n",
      "_________________________________________________________________\n",
      "dense_12 (Dense)             (None, 3)                 1539      \n",
      "_________________________________________________________________\n",
      "activation_36 (Activation)   (None, 3)                 0         \n",
      "=================================================================\n",
      "Total params: 1,249,699\n",
      "Trainable params: 1,248,483\n",
      "Non-trainable params: 1,216\n",
      "_________________________________________________________________\n"
     ]
    }
   ],
   "source": [
    "model.summary()"
   ]
  },
  {
   "cell_type": "code",
   "execution_count": 67,
   "metadata": {},
   "outputs": [
    {
     "name": "stdout",
     "output_type": "stream",
     "text": [
      "[INFO] serializing network and label binarizer...\n"
     ]
    }
   ],
   "source": [
    "# save the model and label binarizer to disk\n",
    "print(\"[INFO] serializing network and label binarizer...\")\n",
    "target_dir = './models/'\n",
    "if not os.path.exists(target_dir):\n",
    "    os.mkdir(target_dir)\n",
    "model.save('./models/training.h5')\n",
    "model.save_weights('./models/weights.h5')\n",
    "\n",
    "f = open(\"Training_bin\", \"wb\")\n",
    "f.write(pickle.dumps(lb))\n",
    "f.close()"
   ]
  },
  {
   "cell_type": "code",
   "execution_count": null,
   "metadata": {},
   "outputs": [],
   "source": []
  }
 ],
 "metadata": {
  "accelerator": "GPU",
  "colab": {
   "collapsed_sections": [],
   "name": "Training.ipynb",
   "provenance": []
  },
  "kernelspec": {
   "display_name": "Python 3",
   "language": "python",
   "name": "python3"
  },
  "language_info": {
   "codemirror_mode": {
    "name": "ipython",
    "version": 3
   },
   "file_extension": ".py",
   "mimetype": "text/x-python",
   "name": "python",
   "nbconvert_exporter": "python",
   "pygments_lexer": "ipython3",
   "version": "3.6.7"
  }
 },
 "nbformat": 4,
 "nbformat_minor": 1
}
